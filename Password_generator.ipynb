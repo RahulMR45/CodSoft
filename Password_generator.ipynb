{
 "cells": [
  {
   "cell_type": "code",
   "execution_count": 1,
   "id": "c97fa0c9-a626-44fb-8527-d6b30946fc2e",
   "metadata": {},
   "outputs": [
    {
     "name": "stdin",
     "output_type": "stream",
     "text": [
      "Enter the number of characters for the password:  10\n"
     ]
    },
    {
     "name": "stdout",
     "output_type": "stream",
     "text": [
      ">(,Gromg\"|\n"
     ]
    }
   ],
   "source": [
    "import random\n",
    "import string\n",
    "\n",
    "\n",
    "def password(l):\n",
    "    c = string.ascii_letters + string.digits + string.punctuation\n",
    "    p = \"\"\n",
    "    for x in range(l):\n",
    "        p += random.choice(c)\n",
    "    print(p)\n",
    "\n",
    "\n",
    "l = int(input(\"Enter the number of characters for the password: \"))\n",
    "password(l)"
   ]
  },
  {
   "cell_type": "code",
   "execution_count": null,
   "id": "0221b90b-5a6b-4360-8cd8-d980b07d15d5",
   "metadata": {},
   "outputs": [],
   "source": []
  }
 ],
 "metadata": {
  "kernelspec": {
   "display_name": "Python 3 (ipykernel)",
   "language": "python",
   "name": "python3"
  },
  "language_info": {
   "codemirror_mode": {
    "name": "ipython",
    "version": 3
   },
   "file_extension": ".py",
   "mimetype": "text/x-python",
   "name": "python",
   "nbconvert_exporter": "python",
   "pygments_lexer": "ipython3",
   "version": "3.11.5"
  }
 },
 "nbformat": 4,
 "nbformat_minor": 5
}
