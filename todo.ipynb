{
 "cells": [
  {
   "cell_type": "code",
   "execution_count": 1,
   "id": "8965cad3-997e-456d-bbe5-4f63fd797ac8",
   "metadata": {},
   "outputs": [],
   "source": [
    "class Todo:\n",
    "    def __init__(self):\n",
    "        self.l = []\n",
    "\n",
    "    def add_task(self, t):\n",
    "        self.l.append(t)\n",
    "        print(\"Task added successfully\")\n",
    "\n",
    "    def display_task(self):\n",
    "        if not self.l:\n",
    "            print(\"No tasks to display\")\n",
    "            return\n",
    "        print(\"Tasks to be done are:\")\n",
    "        for i, t in enumerate(self.l, start=1):\n",
    "            print(f\"{i}. {t}\")\n",
    "\n",
    "    def tasks_done(self):\n",
    "        if not self.l:\n",
    "            print(\"No tasks to mark as done\")\n",
    "            return\n",
    "        print(\"The tasks to be done:\")\n",
    "        self.display_task()\n",
    "\n",
    "        t = int(input(\"Enter the task number to mark as done: \"))\n",
    "        if 1 <= t <= len(self.l):\n",
    "            task = self.l.pop(t - 1)\n",
    "            print(f\"Removed task: {t}. {task}\")\n",
    "        else:\n",
    "            print(\"Invalid task number\")\n",
    "\n",
    "        self.display_task()\n",
    "\n",
    "\n"
   ]
  },
  {
   "cell_type": "code",
   "execution_count": 2,
   "id": "4abf53fe-41a9-44f6-9217-d36f57707a40",
   "metadata": {},
   "outputs": [
    {
     "name": "stdout",
     "output_type": "stream",
     "text": [
      "\n",
      "Welcome to Rahul's Todo Application\n",
      "Select your choice:\n",
      "1. Add task\n",
      "2. Display tasks\n",
      "3. Mark task as done\n",
      "4. Exit\n"
     ]
    },
    {
     "name": "stdin",
     "output_type": "stream",
     "text": [
      "Enter your choice:  1\n",
      "Enter your task to add:  abc\n"
     ]
    },
    {
     "name": "stdout",
     "output_type": "stream",
     "text": [
      "Task added successfully\n",
      "\n",
      "Welcome to Rahul's Todo Application\n",
      "Select your choice:\n",
      "1. Add task\n",
      "2. Display tasks\n",
      "3. Mark task as done\n",
      "4. Exit\n"
     ]
    },
    {
     "name": "stdin",
     "output_type": "stream",
     "text": [
      "Enter your choice:  2\n"
     ]
    },
    {
     "name": "stdout",
     "output_type": "stream",
     "text": [
      "Tasks to be done are:\n",
      "1. abc\n",
      "\n",
      "Welcome to Rahul's Todo Application\n",
      "Select your choice:\n",
      "1. Add task\n",
      "2. Display tasks\n",
      "3. Mark task as done\n",
      "4. Exit\n"
     ]
    },
    {
     "name": "stdin",
     "output_type": "stream",
     "text": [
      "Enter your choice:  3\n"
     ]
    },
    {
     "name": "stdout",
     "output_type": "stream",
     "text": [
      "The tasks to be done:\n",
      "Tasks to be done are:\n",
      "1. abc\n"
     ]
    },
    {
     "name": "stdin",
     "output_type": "stream",
     "text": [
      "Enter the task number to mark as done:  1\n"
     ]
    },
    {
     "name": "stdout",
     "output_type": "stream",
     "text": [
      "Removed task: 1. abc\n",
      "No tasks to display\n",
      "\n",
      "Welcome to Rahul's Todo Application\n",
      "Select your choice:\n",
      "1. Add task\n",
      "2. Display tasks\n",
      "3. Mark task as done\n",
      "4. Exit\n"
     ]
    },
    {
     "name": "stdin",
     "output_type": "stream",
     "text": [
      "Enter your choice:  4\n"
     ]
    },
    {
     "name": "stdout",
     "output_type": "stream",
     "text": [
      "Exiting application\n"
     ]
    }
   ],
   "source": [
    "todo = Todo()\n",
    "\n",
    "while True:\n",
    "    print(\"\\nWelcome to Rahul's Todo Application\")\n",
    "    print(\"Select your choice:\")\n",
    "    print(\"1. Add task\")\n",
    "    print(\"2. Display tasks\")\n",
    "    print(\"3. Mark task as done\")\n",
    "    print(\"4. Exit\")\n",
    "    try:\n",
    "        i = int(input(\"Enter your choice: \"))\n",
    "    except ValueError:\n",
    "        print(\"Invalid input, please enter a number\")\n",
    "        continue\n",
    "\n",
    "    if i == 1:\n",
    "        x = input(\"Enter your task to add: \")\n",
    "        todo.add_task(x)\n",
    "    elif i == 2:\n",
    "        todo.display_task()\n",
    "    elif i == 3:\n",
    "        todo.tasks_done()\n",
    "    elif i == 4:\n",
    "        print(\"Exiting application\")\n",
    "        break\n",
    "    else:\n",
    "        print(\"Enter a valid choice\")\n"
   ]
  },
  {
   "cell_type": "code",
   "execution_count": null,
   "id": "fabf6cbe-135e-4cf8-9c44-f65f07ab0703",
   "metadata": {},
   "outputs": [],
   "source": []
  }
 ],
 "metadata": {
  "kernelspec": {
   "display_name": "Python 3 (ipykernel)",
   "language": "python",
   "name": "python3"
  },
  "language_info": {
   "codemirror_mode": {
    "name": "ipython",
    "version": 3
   },
   "file_extension": ".py",
   "mimetype": "text/x-python",
   "name": "python",
   "nbconvert_exporter": "python",
   "pygments_lexer": "ipython3",
   "version": "3.11.5"
  }
 },
 "nbformat": 4,
 "nbformat_minor": 5
}
