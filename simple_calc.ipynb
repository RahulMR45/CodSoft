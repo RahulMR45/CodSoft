{
 "cells": [
  {
   "cell_type": "code",
   "execution_count": 1,
   "id": "b3c2b26e-ba05-4428-aa31-6bc4ea3a3181",
   "metadata": {},
   "outputs": [],
   "source": [
    "def addition(a, b):\n",
    "    print(a + b)\n",
    "\n",
    "\n",
    "def subtract(a, b):\n",
    "    print(a - b)\n",
    "\n",
    "\n",
    "def multiply(a, b):\n",
    "    print(a * b)\n",
    "\n",
    "\n",
    "def division(a, b):\n",
    "\n",
    "    print(a / b)\n",
    "\n",
    "\n",
    "def modulus(a, b):\n",
    "    print(a % b)\n",
    "\n",
    "\n"
   ]
  },
  {
   "cell_type": "code",
   "execution_count": 2,
   "id": "d8ac7426-3c47-420b-94e7-1516932a03ad",
   "metadata": {},
   "outputs": [
    {
     "name": "stdout",
     "output_type": "stream",
     "text": [
      "simple calculator\n"
     ]
    },
    {
     "name": "stdin",
     "output_type": "stream",
     "text": [
      "enter 1st operand:\n",
      " 10\n",
      "enter 2nd operand:\n",
      " 20\n",
      "select the operation you want \n",
      " 1.addition 2.subtraction 3.multiplication 4.division 5.modulus\n",
      " 1\n"
     ]
    },
    {
     "name": "stdout",
     "output_type": "stream",
     "text": [
      "the choice you select is  1\n",
      "the result is 30\n"
     ]
    }
   ],
   "source": [
    "print(\"simple calculator\")\n",
    "a = int(input(\"enter 1st operand:\\n\"))\n",
    "b = int(input(\"enter 2nd operand:\\n\"))\n",
    "c = int(input(\"select the operation you want \\n 1.addition 2.subtraction 3.multiplication 4.division 5.modulus\\n\"))\n",
    "print(\"the choice you select is \", c)\n",
    "print(\"the result is\", end=\" \")\n",
    "if c == 1:\n",
    "    addition(a, b)\n",
    "elif c==2:\n",
    "    subtract(a,b)\n",
    "elif c==3:\n",
    "    multiply(a,b)\n",
    "elif c==4:\n",
    "    division(a,b)\n",
    "elif c==5:\n",
    "    modulus(a,b)\n",
    "else:\n",
    "    print(\"wrong input\")\n"
   ]
  },
  {
   "cell_type": "code",
   "execution_count": null,
   "id": "759bce1d-ede6-4d48-815f-d62748cd50bf",
   "metadata": {},
   "outputs": [],
   "source": []
  }
 ],
 "metadata": {
  "kernelspec": {
   "display_name": "Python 3 (ipykernel)",
   "language": "python",
   "name": "python3"
  },
  "language_info": {
   "codemirror_mode": {
    "name": "ipython",
    "version": 3
   },
   "file_extension": ".py",
   "mimetype": "text/x-python",
   "name": "python",
   "nbconvert_exporter": "python",
   "pygments_lexer": "ipython3",
   "version": "3.11.5"
  }
 },
 "nbformat": 4,
 "nbformat_minor": 5
}
