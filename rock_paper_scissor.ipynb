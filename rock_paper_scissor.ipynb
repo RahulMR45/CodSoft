{
 "cells": [
  {
   "cell_type": "code",
   "execution_count": 1,
   "id": "5a26bfb8-7691-4f12-b231-e379f1fd9484",
   "metadata": {},
   "outputs": [
    {
     "name": "stdout",
     "output_type": "stream",
     "text": [
      "Welcome to Rahul's Rock Paper Scissors game!\n",
      "Select your choice: \n",
      " rock \n",
      " paper \n",
      " scissor \n",
      " exit\n"
     ]
    },
    {
     "name": "stdin",
     "output_type": "stream",
     "text": [
      " rock\n"
     ]
    },
    {
     "name": "stdout",
     "output_type": "stream",
     "text": [
      "Computer chose: paper\n",
      "I won!\n",
      "Select your choice: \n",
      " rock \n",
      " paper \n",
      " scissor \n",
      " exit\n"
     ]
    },
    {
     "name": "stdin",
     "output_type": "stream",
     "text": [
      " exit\n"
     ]
    },
    {
     "name": "stdout",
     "output_type": "stream",
     "text": [
      "Thanks for playing!\n"
     ]
    }
   ],
   "source": [
    "import random\n",
    "\n",
    "print(\"Welcome to Rahul's Rock Paper Scissors game!\")\n",
    "while True:\n",
    "    print(\"Select your choice: \\n rock \\n paper \\n scissor \\n exit\")\n",
    "    u = input().lower()\n",
    "    l = [\"rock\", \"paper\", \"scissor\"]\n",
    "    if u == \"exit\":\n",
    "        print(\"Thanks for playing!\")\n",
    "        break\n",
    "    if u not in l:\n",
    "        print(\"Invalid choice\")\n",
    "        continue\n",
    "\n",
    "    c = random.choice(l)\n",
    "    print(\"Computer chose:\", c)\n",
    "    if u == c:\n",
    "        print(\"It's a tie!\")\n",
    "    elif (u == \"rock\" and c == \"scissor\") or (u == \"paper\" and c == \"rock\") or (u == \"scissor\" and c == \"paper\"):\n",
    "        print(\"You won!\")\n",
    "    else:\n",
    "        print(\"I won!\")\n"
   ]
  },
  {
   "cell_type": "code",
   "execution_count": null,
   "id": "ce7ea29d-000d-49ee-a044-54a3f0fb6a20",
   "metadata": {},
   "outputs": [],
   "source": []
  }
 ],
 "metadata": {
  "kernelspec": {
   "display_name": "Python 3 (ipykernel)",
   "language": "python",
   "name": "python3"
  },
  "language_info": {
   "codemirror_mode": {
    "name": "ipython",
    "version": 3
   },
   "file_extension": ".py",
   "mimetype": "text/x-python",
   "name": "python",
   "nbconvert_exporter": "python",
   "pygments_lexer": "ipython3",
   "version": "3.11.5"
  }
 },
 "nbformat": 4,
 "nbformat_minor": 5
}
